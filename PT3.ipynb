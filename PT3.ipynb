{
 "cells": [
  {
   "cell_type": "markdown",
   "metadata": {},
   "source": [
    "lab 08\n",
    "jahnvi saini\n",
    "2k18CSUN01021"
   ]
  },
  {
   "cell_type": "raw",
   "metadata": {},
   "source": [
    "QUES1:Write a program that accepts a sequence of whitespace separated words as input and prints the words after removing all duplicate words "
   ]
  },
  {
   "cell_type": "code",
   "execution_count": 11,
   "metadata": {},
   "outputs": [
    {
     "name": "stdout",
     "output_type": "stream",
     "text": [
      "Enter the sentence: Rain Rain Go Away\n",
      "away go rain\n"
     ]
    }
   ],
   "source": [
    "a = input(\"Enter the sentence: \")\n",
    "b = phrase.split(' ')\n",
    "\n",
    "c = []\n",
    "for i in b:\n",
    "    if i not in c:\n",
    "        c.append(i)\n",
    "    else:\n",
    "        continue\n",
    "c.sort()\n",
    "print((' ').join(c))"
   ]
  },
  {
   "cell_type": "markdown",
   "metadata": {},
   "source": [
    "## QUES2:  By using list comprehension, please write a program to print the list after removing the value 24 in [12,24,35,24,88,120,155]. "
   ]
  },
  {
   "cell_type": "code",
   "execution_count": 2,
   "metadata": {},
   "outputs": [
    {
     "name": "stdout",
     "output_type": "stream",
     "text": [
      "12 35 88 120 155\n"
     ]
    }
   ],
   "source": [
    "list = [12,24,35,24,88,120,155]  \n",
    "list = [ element for element in list if element != 24] \n",
    "print(*list)"
   ]
  },
  {
   "cell_type": "markdown",
   "metadata": {},
   "source": [
    "## THEORITICAL QUESTIONS"
   ]
  },
  {
   "cell_type": "markdown",
   "metadata": {},
   "source": [
    "## QUES1  What is the syntax to call a constructor of a base class from child class "
   ]
  },
  {
   "cell_type": "code",
   "execution_count": null,
   "metadata": {},
   "outputs": [],
   "source": [
    "##By using super keyword\n",
    "super().__init__()"
   ]
  },
  {
   "cell_type": "markdown",
   "metadata": {},
   "source": [
    "## Ques2  How is a class made as inherited class (syntax of child class)         "
   ]
  },
  {
   "cell_type": "code",
   "execution_count": 7,
   "metadata": {},
   "outputs": [
    {
     "ename": "SyntaxError",
     "evalue": "invalid syntax (<ipython-input-7-edfb5c6d7b6b>, line 6)",
     "output_type": "error",
     "traceback": [
      "\u001b[1;36m  File \u001b[1;32m\"<ipython-input-7-edfb5c6d7b6b>\"\u001b[1;36m, line \u001b[1;32m6\u001b[0m\n\u001b[1;33m    class J inherits the class V\u001b[0m\n\u001b[1;37m                   ^\u001b[0m\n\u001b[1;31mSyntaxError\u001b[0m\u001b[1;31m:\u001b[0m invalid syntax\n"
     ]
    }
   ],
   "source": [
    "class J:\n",
    "     pass\n",
    "class V(J):\n",
    "     pass\n",
    "\n",
    "     class J inherits the class V"
   ]
  },
  {
   "cell_type": "code",
   "execution_count": 6,
   "metadata": {},
   "outputs": [],
   "source": [
    "## Ques3  Print an element of a nested dictionary "
   ]
  },
  {
   "cell_type": "code",
   "execution_count": 8,
   "metadata": {},
   "outputs": [
    {
     "name": "stdout",
     "output_type": "stream",
     "text": [
      "{1: {'name': 'ABC', 'age': '10', 'sex': 'F'}, 2: {'name': 'B', 'age': '12', 'sex': 'M'}}\n"
     ]
    }
   ],
   "source": [
    "a = {1: {'name': 'ABC', 'age': '10', 'sex': 'F'},\n",
    "     2: {'name': 'B', 'age': '12', 'sex': 'M'}}\n",
    "\n",
    "print(a)"
   ]
  },
  {
   "cell_type": "code",
   "execution_count": null,
   "metadata": {},
   "outputs": [],
   "source": []
  }
 ],
 "metadata": {
  "kernelspec": {
   "display_name": "Python 3",
   "language": "python",
   "name": "python3"
  },
  "language_info": {
   "codemirror_mode": {
    "name": "ipython",
    "version": 3
   },
   "file_extension": ".py",
   "mimetype": "text/x-python",
   "name": "python",
   "nbconvert_exporter": "python",
   "pygments_lexer": "ipython3",
   "version": "3.7.1"
  }
 },
 "nbformat": 4,
 "nbformat_minor": 2
}
